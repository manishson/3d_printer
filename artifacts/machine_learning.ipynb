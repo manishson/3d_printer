{
 "cells": [
  {
   "cell_type": "code",
   "execution_count": 46,
   "id": "e7a07519",
   "metadata": {},
   "outputs": [],
   "source": [
    "import pandas as pd\n",
    "import numpy as np\n",
    "import seaborn as sns\n",
    "import matplotlib.pyplot as plt \n",
    "from sklearn.model_selection import train_test_split\n",
    "from sklearn.linear_model import LinearRegression, LogisticRegression\n",
    "\n",
    "import pickle \n",
    "import json "
   ]
  },
  {
   "cell_type": "markdown",
   "id": "f8ee3ae6",
   "metadata": {},
   "source": [
    "# step-1  problem statement "
   ]
  },
  {
   "cell_type": "raw",
   "id": "dc3a18af",
   "metadata": {},
   "source": [
    "to predict the material using following features \n",
    "\n"
   ]
  },
  {
   "cell_type": "markdown",
   "id": "627473e4",
   "metadata": {},
   "source": [
    "# step-2 data gathring "
   ]
  },
  {
   "cell_type": "code",
   "execution_count": 47,
   "id": "a55f74c0",
   "metadata": {},
   "outputs": [],
   "source": [
    "path= r\"C:\\Users\\manis\\OneDrive\\Desktop\\Data_Science\\flask\\3d_printer\\data\\data.csv\"\n",
    "df=pd.read_csv(path)"
   ]
  },
  {
   "cell_type": "code",
   "execution_count": 48,
   "id": "6822b875",
   "metadata": {},
   "outputs": [],
   "source": [
    "df1=df.copy()"
   ]
  },
  {
   "cell_type": "markdown",
   "id": "d39c37e8",
   "metadata": {},
   "source": [
    "# step-3 EDA"
   ]
  },
  {
   "cell_type": "code",
   "execution_count": 49,
   "id": "41157e84",
   "metadata": {
    "scrolled": true
   },
   "outputs": [
    {
     "name": "stdout",
     "output_type": "stream",
     "text": [
      "<class 'pandas.core.frame.DataFrame'>\n",
      "RangeIndex: 50 entries, 0 to 49\n",
      "Data columns (total 12 columns):\n",
      " #   Column              Non-Null Count  Dtype  \n",
      "---  ------              --------------  -----  \n",
      " 0   layer_height        50 non-null     float64\n",
      " 1   wall_thickness      50 non-null     int64  \n",
      " 2   infill_density      50 non-null     int64  \n",
      " 3   infill_pattern      50 non-null     object \n",
      " 4   nozzle_temperature  50 non-null     int64  \n",
      " 5   bed_temperature     50 non-null     int64  \n",
      " 6   print_speed         50 non-null     int64  \n",
      " 7   material            50 non-null     object \n",
      " 8   fan_speed           50 non-null     int64  \n",
      " 9   roughness           50 non-null     int64  \n",
      " 10  tension_strenght    50 non-null     int64  \n",
      " 11  elongation          50 non-null     float64\n",
      "dtypes: float64(2), int64(8), object(2)\n",
      "memory usage: 4.8+ KB\n"
     ]
    }
   ],
   "source": [
    "df.info()"
   ]
  },
  {
   "cell_type": "code",
   "execution_count": 50,
   "id": "52619e8d",
   "metadata": {},
   "outputs": [
    {
     "data": {
      "text/plain": [
       "layer_height          0\n",
       "wall_thickness        0\n",
       "infill_density        0\n",
       "infill_pattern        0\n",
       "nozzle_temperature    0\n",
       "bed_temperature       0\n",
       "print_speed           0\n",
       "material              0\n",
       "fan_speed             0\n",
       "roughness             0\n",
       "tension_strenght      0\n",
       "elongation            0\n",
       "dtype: int64"
      ]
     },
     "execution_count": 50,
     "metadata": {},
     "output_type": "execute_result"
    }
   ],
   "source": [
    "df.isna().sum()"
   ]
  },
  {
   "cell_type": "code",
   "execution_count": 51,
   "id": "50d50e80",
   "metadata": {
    "scrolled": true
   },
   "outputs": [
    {
     "data": {
      "text/html": [
       "<div>\n",
       "<style scoped>\n",
       "    .dataframe tbody tr th:only-of-type {\n",
       "        vertical-align: middle;\n",
       "    }\n",
       "\n",
       "    .dataframe tbody tr th {\n",
       "        vertical-align: top;\n",
       "    }\n",
       "\n",
       "    .dataframe thead th {\n",
       "        text-align: right;\n",
       "    }\n",
       "</style>\n",
       "<table border=\"1\" class=\"dataframe\">\n",
       "  <thead>\n",
       "    <tr style=\"text-align: right;\">\n",
       "      <th></th>\n",
       "      <th>layer_height</th>\n",
       "      <th>wall_thickness</th>\n",
       "      <th>infill_density</th>\n",
       "      <th>nozzle_temperature</th>\n",
       "      <th>bed_temperature</th>\n",
       "      <th>print_speed</th>\n",
       "      <th>fan_speed</th>\n",
       "      <th>roughness</th>\n",
       "      <th>tension_strenght</th>\n",
       "      <th>elongation</th>\n",
       "    </tr>\n",
       "  </thead>\n",
       "  <tbody>\n",
       "    <tr>\n",
       "      <th>count</th>\n",
       "      <td>50.000000</td>\n",
       "      <td>50.000000</td>\n",
       "      <td>50.00000</td>\n",
       "      <td>50.000000</td>\n",
       "      <td>50.000000</td>\n",
       "      <td>50.0000</td>\n",
       "      <td>50.000000</td>\n",
       "      <td>50.000000</td>\n",
       "      <td>50.000000</td>\n",
       "      <td>50.000000</td>\n",
       "    </tr>\n",
       "    <tr>\n",
       "      <th>mean</th>\n",
       "      <td>0.106000</td>\n",
       "      <td>5.220000</td>\n",
       "      <td>53.40000</td>\n",
       "      <td>221.500000</td>\n",
       "      <td>70.000000</td>\n",
       "      <td>64.0000</td>\n",
       "      <td>50.000000</td>\n",
       "      <td>170.580000</td>\n",
       "      <td>20.080000</td>\n",
       "      <td>1.672000</td>\n",
       "    </tr>\n",
       "    <tr>\n",
       "      <th>std</th>\n",
       "      <td>0.064397</td>\n",
       "      <td>2.922747</td>\n",
       "      <td>25.36348</td>\n",
       "      <td>14.820353</td>\n",
       "      <td>7.142857</td>\n",
       "      <td>29.6923</td>\n",
       "      <td>35.714286</td>\n",
       "      <td>99.034129</td>\n",
       "      <td>8.925634</td>\n",
       "      <td>0.788188</td>\n",
       "    </tr>\n",
       "    <tr>\n",
       "      <th>min</th>\n",
       "      <td>0.020000</td>\n",
       "      <td>1.000000</td>\n",
       "      <td>10.00000</td>\n",
       "      <td>200.000000</td>\n",
       "      <td>60.000000</td>\n",
       "      <td>40.0000</td>\n",
       "      <td>0.000000</td>\n",
       "      <td>21.000000</td>\n",
       "      <td>4.000000</td>\n",
       "      <td>0.400000</td>\n",
       "    </tr>\n",
       "    <tr>\n",
       "      <th>25%</th>\n",
       "      <td>0.060000</td>\n",
       "      <td>3.000000</td>\n",
       "      <td>40.00000</td>\n",
       "      <td>210.000000</td>\n",
       "      <td>65.000000</td>\n",
       "      <td>40.0000</td>\n",
       "      <td>25.000000</td>\n",
       "      <td>92.000000</td>\n",
       "      <td>12.000000</td>\n",
       "      <td>1.100000</td>\n",
       "    </tr>\n",
       "    <tr>\n",
       "      <th>50%</th>\n",
       "      <td>0.100000</td>\n",
       "      <td>5.000000</td>\n",
       "      <td>50.00000</td>\n",
       "      <td>220.000000</td>\n",
       "      <td>70.000000</td>\n",
       "      <td>60.0000</td>\n",
       "      <td>50.000000</td>\n",
       "      <td>165.500000</td>\n",
       "      <td>19.000000</td>\n",
       "      <td>1.550000</td>\n",
       "    </tr>\n",
       "    <tr>\n",
       "      <th>75%</th>\n",
       "      <td>0.150000</td>\n",
       "      <td>7.000000</td>\n",
       "      <td>80.00000</td>\n",
       "      <td>230.000000</td>\n",
       "      <td>75.000000</td>\n",
       "      <td>60.0000</td>\n",
       "      <td>75.000000</td>\n",
       "      <td>239.250000</td>\n",
       "      <td>27.000000</td>\n",
       "      <td>2.175000</td>\n",
       "    </tr>\n",
       "    <tr>\n",
       "      <th>max</th>\n",
       "      <td>0.200000</td>\n",
       "      <td>10.000000</td>\n",
       "      <td>90.00000</td>\n",
       "      <td>250.000000</td>\n",
       "      <td>80.000000</td>\n",
       "      <td>120.0000</td>\n",
       "      <td>100.000000</td>\n",
       "      <td>368.000000</td>\n",
       "      <td>37.000000</td>\n",
       "      <td>3.300000</td>\n",
       "    </tr>\n",
       "  </tbody>\n",
       "</table>\n",
       "</div>"
      ],
      "text/plain": [
       "       layer_height  wall_thickness  infill_density  nozzle_temperature  \\\n",
       "count     50.000000       50.000000        50.00000           50.000000   \n",
       "mean       0.106000        5.220000        53.40000          221.500000   \n",
       "std        0.064397        2.922747        25.36348           14.820353   \n",
       "min        0.020000        1.000000        10.00000          200.000000   \n",
       "25%        0.060000        3.000000        40.00000          210.000000   \n",
       "50%        0.100000        5.000000        50.00000          220.000000   \n",
       "75%        0.150000        7.000000        80.00000          230.000000   \n",
       "max        0.200000       10.000000        90.00000          250.000000   \n",
       "\n",
       "       bed_temperature  print_speed   fan_speed   roughness  tension_strenght  \\\n",
       "count        50.000000      50.0000   50.000000   50.000000         50.000000   \n",
       "mean         70.000000      64.0000   50.000000  170.580000         20.080000   \n",
       "std           7.142857      29.6923   35.714286   99.034129          8.925634   \n",
       "min          60.000000      40.0000    0.000000   21.000000          4.000000   \n",
       "25%          65.000000      40.0000   25.000000   92.000000         12.000000   \n",
       "50%          70.000000      60.0000   50.000000  165.500000         19.000000   \n",
       "75%          75.000000      60.0000   75.000000  239.250000         27.000000   \n",
       "max          80.000000     120.0000  100.000000  368.000000         37.000000   \n",
       "\n",
       "       elongation  \n",
       "count   50.000000  \n",
       "mean     1.672000  \n",
       "std      0.788188  \n",
       "min      0.400000  \n",
       "25%      1.100000  \n",
       "50%      1.550000  \n",
       "75%      2.175000  \n",
       "max      3.300000  "
      ]
     },
     "execution_count": 51,
     "metadata": {},
     "output_type": "execute_result"
    }
   ],
   "source": [
    "df.describe()"
   ]
  },
  {
   "cell_type": "code",
   "execution_count": 52,
   "id": "6c10057f",
   "metadata": {},
   "outputs": [
    {
     "data": {
      "text/plain": [
       "array(['grid', 'honeycomb'], dtype=object)"
      ]
     },
     "execution_count": 52,
     "metadata": {},
     "output_type": "execute_result"
    }
   ],
   "source": [
    "df[\"infill_pattern\"].unique()"
   ]
  },
  {
   "cell_type": "code",
   "execution_count": 53,
   "id": "2422a4b5",
   "metadata": {},
   "outputs": [
    {
     "data": {
      "text/plain": [
       "grid         25\n",
       "honeycomb    25\n",
       "Name: infill_pattern, dtype: int64"
      ]
     },
     "execution_count": 53,
     "metadata": {},
     "output_type": "execute_result"
    }
   ],
   "source": [
    "df[\"infill_pattern\"].value_counts()"
   ]
  },
  {
   "cell_type": "code",
   "execution_count": 54,
   "id": "ef74f241",
   "metadata": {},
   "outputs": [
    {
     "data": {
      "text/plain": [
       "array(['abs', 'pla'], dtype=object)"
      ]
     },
     "execution_count": 54,
     "metadata": {},
     "output_type": "execute_result"
    }
   ],
   "source": [
    "df[\"material\"].unique()"
   ]
  },
  {
   "cell_type": "code",
   "execution_count": 55,
   "id": "e54d5a42",
   "metadata": {
    "scrolled": true
   },
   "outputs": [
    {
     "data": {
      "text/plain": [
       "abs    25\n",
       "pla    25\n",
       "Name: material, dtype: int64"
      ]
     },
     "execution_count": 55,
     "metadata": {},
     "output_type": "execute_result"
    }
   ],
   "source": [
    "df[\"material\"].value_counts()"
   ]
  },
  {
   "cell_type": "code",
   "execution_count": 56,
   "id": "6f914978",
   "metadata": {},
   "outputs": [
    {
     "name": "stderr",
     "output_type": "stream",
     "text": [
      "C:\\Users\\manis\\AppData\\Local\\Temp\\ipykernel_12464\\1991008729.py:2: FutureWarning: this method is deprecated in favour of `Styler.format(precision=..)`\n",
      "  correlation.style.background_gradient(cmap='coolwarm').set_precision(3)\n"
     ]
    },
    {
     "data": {
      "text/html": [
       "<style type=\"text/css\">\n",
       "#T_4314b_row0_col0, #T_4314b_row1_col1, #T_4314b_row2_col2, #T_4314b_row3_col3, #T_4314b_row4_col4, #T_4314b_row4_col6, #T_4314b_row5_col5, #T_4314b_row6_col4, #T_4314b_row6_col6, #T_4314b_row7_col7, #T_4314b_row8_col8, #T_4314b_row9_col9 {\n",
       "  background-color: #b40426;\n",
       "  color: #f1f1f1;\n",
       "}\n",
       "#T_4314b_row0_col1 {\n",
       "  background-color: #6c8ff1;\n",
       "  color: #f1f1f1;\n",
       "}\n",
       "#T_4314b_row0_col2, #T_4314b_row4_col2, #T_4314b_row6_col2 {\n",
       "  background-color: #5572df;\n",
       "  color: #f1f1f1;\n",
       "}\n",
       "#T_4314b_row0_col3, #T_4314b_row5_col3 {\n",
       "  background-color: #aec9fc;\n",
       "  color: #000000;\n",
       "}\n",
       "#T_4314b_row0_col4, #T_4314b_row0_col6, #T_4314b_row2_col4, #T_4314b_row2_col6, #T_4314b_row5_col4, #T_4314b_row5_col6, #T_4314b_row9_col2 {\n",
       "  background-color: #86a9fc;\n",
       "  color: #f1f1f1;\n",
       "}\n",
       "#T_4314b_row0_col5 {\n",
       "  background-color: #8fb1fe;\n",
       "  color: #000000;\n",
       "}\n",
       "#T_4314b_row0_col7 {\n",
       "  background-color: #e67259;\n",
       "  color: #f1f1f1;\n",
       "}\n",
       "#T_4314b_row0_col8 {\n",
       "  background-color: #e4d9d2;\n",
       "  color: #000000;\n",
       "}\n",
       "#T_4314b_row0_col9 {\n",
       "  background-color: #f7b497;\n",
       "  color: #000000;\n",
       "}\n",
       "#T_4314b_row1_col0, #T_4314b_row1_col5, #T_4314b_row1_col7, #T_4314b_row3_col8, #T_4314b_row3_col9, #T_4314b_row5_col1, #T_4314b_row5_col2, #T_4314b_row9_col3, #T_4314b_row9_col4, #T_4314b_row9_col6 {\n",
       "  background-color: #3b4cc0;\n",
       "  color: #f1f1f1;\n",
       "}\n",
       "#T_4314b_row1_col2 {\n",
       "  background-color: #7597f6;\n",
       "  color: #f1f1f1;\n",
       "}\n",
       "#T_4314b_row1_col3, #T_4314b_row9_col7 {\n",
       "  background-color: #93b5fe;\n",
       "  color: #000000;\n",
       "}\n",
       "#T_4314b_row1_col4, #T_4314b_row1_col6 {\n",
       "  background-color: #7ea1fa;\n",
       "  color: #f1f1f1;\n",
       "}\n",
       "#T_4314b_row1_col8, #T_4314b_row7_col3 {\n",
       "  background-color: #edd1c2;\n",
       "  color: #000000;\n",
       "}\n",
       "#T_4314b_row1_col9 {\n",
       "  background-color: #d2dbe8;\n",
       "  color: #000000;\n",
       "}\n",
       "#T_4314b_row2_col0 {\n",
       "  background-color: #6f92f3;\n",
       "  color: #f1f1f1;\n",
       "}\n",
       "#T_4314b_row2_col1 {\n",
       "  background-color: #b6cefa;\n",
       "  color: #000000;\n",
       "}\n",
       "#T_4314b_row2_col3 {\n",
       "  background-color: #dddcdc;\n",
       "  color: #000000;\n",
       "}\n",
       "#T_4314b_row2_col5, #T_4314b_row8_col7 {\n",
       "  background-color: #85a8fc;\n",
       "  color: #f1f1f1;\n",
       "}\n",
       "#T_4314b_row2_col7, #T_4314b_row5_col7 {\n",
       "  background-color: #98b9ff;\n",
       "  color: #000000;\n",
       "}\n",
       "#T_4314b_row2_col8 {\n",
       "  background-color: #e8d6cc;\n",
       "  color: #000000;\n",
       "}\n",
       "#T_4314b_row2_col9 {\n",
       "  background-color: #cfdaea;\n",
       "  color: #000000;\n",
       "}\n",
       "#T_4314b_row3_col0, #T_4314b_row4_col0, #T_4314b_row6_col0 {\n",
       "  background-color: #6e90f2;\n",
       "  color: #f1f1f1;\n",
       "}\n",
       "#T_4314b_row3_col1 {\n",
       "  background-color: #80a3fa;\n",
       "  color: #f1f1f1;\n",
       "}\n",
       "#T_4314b_row3_col2 {\n",
       "  background-color: #9fbfff;\n",
       "  color: #000000;\n",
       "}\n",
       "#T_4314b_row3_col4, #T_4314b_row3_col6 {\n",
       "  background-color: #f7af91;\n",
       "  color: #000000;\n",
       "}\n",
       "#T_4314b_row3_col5, #T_4314b_row4_col5, #T_4314b_row6_col5 {\n",
       "  background-color: #9dbdff;\n",
       "  color: #000000;\n",
       "}\n",
       "#T_4314b_row3_col7 {\n",
       "  background-color: #d5dbe5;\n",
       "  color: #000000;\n",
       "}\n",
       "#T_4314b_row4_col1, #T_4314b_row6_col1 {\n",
       "  background-color: #96b7ff;\n",
       "  color: #000000;\n",
       "}\n",
       "#T_4314b_row4_col3, #T_4314b_row6_col3 {\n",
       "  background-color: #f59d7e;\n",
       "  color: #000000;\n",
       "}\n",
       "#T_4314b_row4_col7, #T_4314b_row6_col7 {\n",
       "  background-color: #adc9fd;\n",
       "  color: #000000;\n",
       "}\n",
       "#T_4314b_row4_col8, #T_4314b_row6_col8, #T_4314b_row8_col5 {\n",
       "  background-color: #5b7ae5;\n",
       "  color: #f1f1f1;\n",
       "}\n",
       "#T_4314b_row4_col9, #T_4314b_row6_col9 {\n",
       "  background-color: #688aef;\n",
       "  color: #f1f1f1;\n",
       "}\n",
       "#T_4314b_row5_col0 {\n",
       "  background-color: #5e7de7;\n",
       "  color: #f1f1f1;\n",
       "}\n",
       "#T_4314b_row5_col8 {\n",
       "  background-color: #5977e3;\n",
       "  color: #f1f1f1;\n",
       "}\n",
       "#T_4314b_row5_col9, #T_4314b_row7_col2 {\n",
       "  background-color: #799cf8;\n",
       "  color: #f1f1f1;\n",
       "}\n",
       "#T_4314b_row7_col0 {\n",
       "  background-color: #e7745b;\n",
       "  color: #f1f1f1;\n",
       "}\n",
       "#T_4314b_row7_col1 {\n",
       "  background-color: #6485ec;\n",
       "  color: #f1f1f1;\n",
       "}\n",
       "#T_4314b_row7_col4, #T_4314b_row7_col5, #T_4314b_row7_col6 {\n",
       "  background-color: #bad0f8;\n",
       "  color: #000000;\n",
       "}\n",
       "#T_4314b_row7_col8 {\n",
       "  background-color: #a7c5fe;\n",
       "  color: #000000;\n",
       "}\n",
       "#T_4314b_row7_col9 {\n",
       "  background-color: #c3d5f4;\n",
       "  color: #000000;\n",
       "}\n",
       "#T_4314b_row8_col0 {\n",
       "  background-color: #cdd9ec;\n",
       "  color: #000000;\n",
       "}\n",
       "#T_4314b_row8_col1 {\n",
       "  background-color: #eed0c0;\n",
       "  color: #000000;\n",
       "}\n",
       "#T_4314b_row8_col2 {\n",
       "  background-color: #c4d5f3;\n",
       "  color: #000000;\n",
       "}\n",
       "#T_4314b_row8_col3 {\n",
       "  background-color: #536edd;\n",
       "  color: #f1f1f1;\n",
       "}\n",
       "#T_4314b_row8_col4, #T_4314b_row8_col6 {\n",
       "  background-color: #455cce;\n",
       "  color: #f1f1f1;\n",
       "}\n",
       "#T_4314b_row8_col9 {\n",
       "  background-color: #d85646;\n",
       "  color: #f1f1f1;\n",
       "}\n",
       "#T_4314b_row9_col0 {\n",
       "  background-color: #f0cdbb;\n",
       "  color: #000000;\n",
       "}\n",
       "#T_4314b_row9_col1 {\n",
       "  background-color: #c6d6f1;\n",
       "  color: #000000;\n",
       "}\n",
       "#T_4314b_row9_col5 {\n",
       "  background-color: #6384eb;\n",
       "  color: #f1f1f1;\n",
       "}\n",
       "#T_4314b_row9_col8 {\n",
       "  background-color: #da5a49;\n",
       "  color: #f1f1f1;\n",
       "}\n",
       "</style>\n",
       "<table id=\"T_4314b\">\n",
       "  <thead>\n",
       "    <tr>\n",
       "      <th class=\"blank level0\" >&nbsp;</th>\n",
       "      <th id=\"T_4314b_level0_col0\" class=\"col_heading level0 col0\" >layer_height</th>\n",
       "      <th id=\"T_4314b_level0_col1\" class=\"col_heading level0 col1\" >wall_thickness</th>\n",
       "      <th id=\"T_4314b_level0_col2\" class=\"col_heading level0 col2\" >infill_density</th>\n",
       "      <th id=\"T_4314b_level0_col3\" class=\"col_heading level0 col3\" >nozzle_temperature</th>\n",
       "      <th id=\"T_4314b_level0_col4\" class=\"col_heading level0 col4\" >bed_temperature</th>\n",
       "      <th id=\"T_4314b_level0_col5\" class=\"col_heading level0 col5\" >print_speed</th>\n",
       "      <th id=\"T_4314b_level0_col6\" class=\"col_heading level0 col6\" >fan_speed</th>\n",
       "      <th id=\"T_4314b_level0_col7\" class=\"col_heading level0 col7\" >roughness</th>\n",
       "      <th id=\"T_4314b_level0_col8\" class=\"col_heading level0 col8\" >tension_strenght</th>\n",
       "      <th id=\"T_4314b_level0_col9\" class=\"col_heading level0 col9\" >elongation</th>\n",
       "    </tr>\n",
       "  </thead>\n",
       "  <tbody>\n",
       "    <tr>\n",
       "      <th id=\"T_4314b_level0_row0\" class=\"row_heading level0 row0\" >layer_height</th>\n",
       "      <td id=\"T_4314b_row0_col0\" class=\"data row0 col0\" >1.000</td>\n",
       "      <td id=\"T_4314b_row0_col1\" class=\"data row0 col1\" >-0.193</td>\n",
       "      <td id=\"T_4314b_row0_col2\" class=\"data row0 col2\" >0.003</td>\n",
       "      <td id=\"T_4314b_row0_col3\" class=\"data row0 col3\" >0.000</td>\n",
       "      <td id=\"T_4314b_row0_col4\" class=\"data row0 col4\" >0.000</td>\n",
       "      <td id=\"T_4314b_row0_col5\" class=\"data row0 col5\" >-0.056</td>\n",
       "      <td id=\"T_4314b_row0_col6\" class=\"data row0 col6\" >-0.000</td>\n",
       "      <td id=\"T_4314b_row0_col7\" class=\"data row0 col7\" >0.801</td>\n",
       "      <td id=\"T_4314b_row0_col8\" class=\"data row0 col8\" >0.338</td>\n",
       "      <td id=\"T_4314b_row0_col9\" class=\"data row0 col9\" >0.508</td>\n",
       "    </tr>\n",
       "    <tr>\n",
       "      <th id=\"T_4314b_level0_row1\" class=\"row_heading level0 row1\" >wall_thickness</th>\n",
       "      <td id=\"T_4314b_row1_col0\" class=\"data row1 col0\" >-0.193</td>\n",
       "      <td id=\"T_4314b_row1_col1\" class=\"data row1 col1\" >1.000</td>\n",
       "      <td id=\"T_4314b_row1_col2\" class=\"data row1 col2\" >0.103</td>\n",
       "      <td id=\"T_4314b_row1_col3\" class=\"data row1 col3\" >-0.118</td>\n",
       "      <td id=\"T_4314b_row1_col4\" class=\"data row1 col4\" >-0.029</td>\n",
       "      <td id=\"T_4314b_row1_col5\" class=\"data row1 col5\" >-0.420</td>\n",
       "      <td id=\"T_4314b_row1_col6\" class=\"data row1 col6\" >-0.029</td>\n",
       "      <td id=\"T_4314b_row1_col7\" class=\"data row1 col7\" >-0.227</td>\n",
       "      <td id=\"T_4314b_row1_col8\" class=\"data row1 col8\" >0.400</td>\n",
       "      <td id=\"T_4314b_row1_col9\" class=\"data row1 col9\" >0.176</td>\n",
       "    </tr>\n",
       "    <tr>\n",
       "      <th id=\"T_4314b_level0_row2\" class=\"row_heading level0 row2\" >infill_density</th>\n",
       "      <td id=\"T_4314b_row2_col0\" class=\"data row2 col0\" >0.003</td>\n",
       "      <td id=\"T_4314b_row2_col1\" class=\"data row2 col1\" >0.103</td>\n",
       "      <td id=\"T_4314b_row2_col2\" class=\"data row2 col2\" >1.000</td>\n",
       "      <td id=\"T_4314b_row2_col3\" class=\"data row2 col3\" >0.239</td>\n",
       "      <td id=\"T_4314b_row2_col4\" class=\"data row2 col4\" >-0.000</td>\n",
       "      <td id=\"T_4314b_row2_col5\" class=\"data row2 col5\" >-0.094</td>\n",
       "      <td id=\"T_4314b_row2_col6\" class=\"data row2 col6\" >0.000</td>\n",
       "      <td id=\"T_4314b_row2_col7\" class=\"data row2 col7\" >0.118</td>\n",
       "      <td id=\"T_4314b_row2_col8\" class=\"data row2 col8\" >0.358</td>\n",
       "      <td id=\"T_4314b_row2_col9\" class=\"data row2 col9\" >0.159</td>\n",
       "    </tr>\n",
       "    <tr>\n",
       "      <th id=\"T_4314b_level0_row3\" class=\"row_heading level0 row3\" >nozzle_temperature</th>\n",
       "      <td id=\"T_4314b_row3_col0\" class=\"data row3 col0\" >0.000</td>\n",
       "      <td id=\"T_4314b_row3_col1\" class=\"data row3 col1\" >-0.118</td>\n",
       "      <td id=\"T_4314b_row3_col2\" class=\"data row3 col2\" >0.239</td>\n",
       "      <td id=\"T_4314b_row3_col3\" class=\"data row3 col3\" >1.000</td>\n",
       "      <td id=\"T_4314b_row3_col4\" class=\"data row3 col4\" >0.602</td>\n",
       "      <td id=\"T_4314b_row3_col5\" class=\"data row3 col5\" >-0.000</td>\n",
       "      <td id=\"T_4314b_row3_col6\" class=\"data row3 col6\" >0.602</td>\n",
       "      <td id=\"T_4314b_row3_col7\" class=\"data row3 col7\" >0.349</td>\n",
       "      <td id=\"T_4314b_row3_col8\" class=\"data row3 col8\" >-0.406</td>\n",
       "      <td id=\"T_4314b_row3_col9\" class=\"data row3 col9\" >-0.527</td>\n",
       "    </tr>\n",
       "    <tr>\n",
       "      <th id=\"T_4314b_level0_row4\" class=\"row_heading level0 row4\" >bed_temperature</th>\n",
       "      <td id=\"T_4314b_row4_col0\" class=\"data row4 col0\" >0.000</td>\n",
       "      <td id=\"T_4314b_row4_col1\" class=\"data row4 col1\" >-0.029</td>\n",
       "      <td id=\"T_4314b_row4_col2\" class=\"data row4 col2\" >-0.000</td>\n",
       "      <td id=\"T_4314b_row4_col3\" class=\"data row4 col3\" >0.602</td>\n",
       "      <td id=\"T_4314b_row4_col4\" class=\"data row4 col4\" >1.000</td>\n",
       "      <td id=\"T_4314b_row4_col5\" class=\"data row4 col5\" >0.000</td>\n",
       "      <td id=\"T_4314b_row4_col6\" class=\"data row4 col6\" >1.000</td>\n",
       "      <td id=\"T_4314b_row4_col7\" class=\"data row4 col7\" >0.192</td>\n",
       "      <td id=\"T_4314b_row4_col8\" class=\"data row4 col8\" >-0.253</td>\n",
       "      <td id=\"T_4314b_row4_col9\" class=\"data row4 col9\" >-0.301</td>\n",
       "    </tr>\n",
       "    <tr>\n",
       "      <th id=\"T_4314b_level0_row5\" class=\"row_heading level0 row5\" >print_speed</th>\n",
       "      <td id=\"T_4314b_row5_col0\" class=\"data row5 col0\" >-0.056</td>\n",
       "      <td id=\"T_4314b_row5_col1\" class=\"data row5 col1\" >-0.420</td>\n",
       "      <td id=\"T_4314b_row5_col2\" class=\"data row5 col2\" >-0.094</td>\n",
       "      <td id=\"T_4314b_row5_col3\" class=\"data row5 col3\" >-0.000</td>\n",
       "      <td id=\"T_4314b_row5_col4\" class=\"data row5 col4\" >0.000</td>\n",
       "      <td id=\"T_4314b_row5_col5\" class=\"data row5 col5\" >1.000</td>\n",
       "      <td id=\"T_4314b_row5_col6\" class=\"data row5 col6\" >-0.000</td>\n",
       "      <td id=\"T_4314b_row5_col7\" class=\"data row5 col7\" >0.121</td>\n",
       "      <td id=\"T_4314b_row5_col8\" class=\"data row5 col8\" >-0.265</td>\n",
       "      <td id=\"T_4314b_row5_col9\" class=\"data row5 col9\" >-0.234</td>\n",
       "    </tr>\n",
       "    <tr>\n",
       "      <th id=\"T_4314b_level0_row6\" class=\"row_heading level0 row6\" >fan_speed</th>\n",
       "      <td id=\"T_4314b_row6_col0\" class=\"data row6 col0\" >-0.000</td>\n",
       "      <td id=\"T_4314b_row6_col1\" class=\"data row6 col1\" >-0.029</td>\n",
       "      <td id=\"T_4314b_row6_col2\" class=\"data row6 col2\" >0.000</td>\n",
       "      <td id=\"T_4314b_row6_col3\" class=\"data row6 col3\" >0.602</td>\n",
       "      <td id=\"T_4314b_row6_col4\" class=\"data row6 col4\" >1.000</td>\n",
       "      <td id=\"T_4314b_row6_col5\" class=\"data row6 col5\" >-0.000</td>\n",
       "      <td id=\"T_4314b_row6_col6\" class=\"data row6 col6\" >1.000</td>\n",
       "      <td id=\"T_4314b_row6_col7\" class=\"data row6 col7\" >0.192</td>\n",
       "      <td id=\"T_4314b_row6_col8\" class=\"data row6 col8\" >-0.253</td>\n",
       "      <td id=\"T_4314b_row6_col9\" class=\"data row6 col9\" >-0.301</td>\n",
       "    </tr>\n",
       "    <tr>\n",
       "      <th id=\"T_4314b_level0_row7\" class=\"row_heading level0 row7\" >roughness</th>\n",
       "      <td id=\"T_4314b_row7_col0\" class=\"data row7 col0\" >0.801</td>\n",
       "      <td id=\"T_4314b_row7_col1\" class=\"data row7 col1\" >-0.227</td>\n",
       "      <td id=\"T_4314b_row7_col2\" class=\"data row7 col2\" >0.118</td>\n",
       "      <td id=\"T_4314b_row7_col3\" class=\"data row7 col3\" >0.349</td>\n",
       "      <td id=\"T_4314b_row7_col4\" class=\"data row7 col4\" >0.192</td>\n",
       "      <td id=\"T_4314b_row7_col5\" class=\"data row7 col5\" >0.121</td>\n",
       "      <td id=\"T_4314b_row7_col6\" class=\"data row7 col6\" >0.192</td>\n",
       "      <td id=\"T_4314b_row7_col7\" class=\"data row7 col7\" >1.000</td>\n",
       "      <td id=\"T_4314b_row7_col8\" class=\"data row7 col8\" >0.052</td>\n",
       "      <td id=\"T_4314b_row7_col9\" class=\"data row7 col9\" >0.099</td>\n",
       "    </tr>\n",
       "    <tr>\n",
       "      <th id=\"T_4314b_level0_row8\" class=\"row_heading level0 row8\" >tension_strenght</th>\n",
       "      <td id=\"T_4314b_row8_col0\" class=\"data row8 col0\" >0.338</td>\n",
       "      <td id=\"T_4314b_row8_col1\" class=\"data row8 col1\" >0.400</td>\n",
       "      <td id=\"T_4314b_row8_col2\" class=\"data row8 col2\" >0.358</td>\n",
       "      <td id=\"T_4314b_row8_col3\" class=\"data row8 col3\" >-0.406</td>\n",
       "      <td id=\"T_4314b_row8_col4\" class=\"data row8 col4\" >-0.253</td>\n",
       "      <td id=\"T_4314b_row8_col5\" class=\"data row8 col5\" >-0.265</td>\n",
       "      <td id=\"T_4314b_row8_col6\" class=\"data row8 col6\" >-0.253</td>\n",
       "      <td id=\"T_4314b_row8_col7\" class=\"data row8 col7\" >0.052</td>\n",
       "      <td id=\"T_4314b_row8_col8\" class=\"data row8 col8\" >1.000</td>\n",
       "      <td id=\"T_4314b_row8_col9\" class=\"data row8 col9\" >0.838</td>\n",
       "    </tr>\n",
       "    <tr>\n",
       "      <th id=\"T_4314b_level0_row9\" class=\"row_heading level0 row9\" >elongation</th>\n",
       "      <td id=\"T_4314b_row9_col0\" class=\"data row9 col0\" >0.508</td>\n",
       "      <td id=\"T_4314b_row9_col1\" class=\"data row9 col1\" >0.176</td>\n",
       "      <td id=\"T_4314b_row9_col2\" class=\"data row9 col2\" >0.159</td>\n",
       "      <td id=\"T_4314b_row9_col3\" class=\"data row9 col3\" >-0.527</td>\n",
       "      <td id=\"T_4314b_row9_col4\" class=\"data row9 col4\" >-0.301</td>\n",
       "      <td id=\"T_4314b_row9_col5\" class=\"data row9 col5\" >-0.234</td>\n",
       "      <td id=\"T_4314b_row9_col6\" class=\"data row9 col6\" >-0.301</td>\n",
       "      <td id=\"T_4314b_row9_col7\" class=\"data row9 col7\" >0.099</td>\n",
       "      <td id=\"T_4314b_row9_col8\" class=\"data row9 col8\" >0.838</td>\n",
       "      <td id=\"T_4314b_row9_col9\" class=\"data row9 col9\" >1.000</td>\n",
       "    </tr>\n",
       "  </tbody>\n",
       "</table>\n"
      ],
      "text/plain": [
       "<pandas.io.formats.style.Styler at 0x1d28b828550>"
      ]
     },
     "execution_count": 56,
     "metadata": {},
     "output_type": "execute_result"
    }
   ],
   "source": [
    "correlation = df.corr()\n",
    "correlation.style.background_gradient(cmap='coolwarm').set_precision(3)"
   ]
  },
  {
   "cell_type": "code",
   "execution_count": null,
   "id": "ef07ef24",
   "metadata": {
    "scrolled": true
   },
   "outputs": [],
   "source": [
    "\n"
   ]
  },
  {
   "cell_type": "markdown",
   "id": "da571b26",
   "metadata": {},
   "source": [
    "# step-4 feature engineering "
   ]
  },
  {
   "cell_type": "code",
   "execution_count": 57,
   "id": "bde371a6",
   "metadata": {},
   "outputs": [],
   "source": [
    "df[\"infill_pattern\"].value_counts().to_dict()\n",
    "df.replace({'grid':0, 'honeycomb':1} , inplace=True)"
   ]
  },
  {
   "cell_type": "code",
   "execution_count": 58,
   "id": "74ddce4f",
   "metadata": {},
   "outputs": [],
   "source": [
    "df[\"material\"].value_counts().to_dict()\n",
    "df.replace({'abs':0, 'pla':1} , inplace=True)"
   ]
  },
  {
   "cell_type": "markdown",
   "id": "a0952671",
   "metadata": {},
   "source": [
    "# step-5 feature selection "
   ]
  },
  {
   "cell_type": "markdown",
   "id": "6200f876",
   "metadata": {},
   "source": [
    "# step-6 model training"
   ]
  },
  {
   "cell_type": "code",
   "execution_count": 59,
   "id": "8e8ea859",
   "metadata": {},
   "outputs": [],
   "source": [
    "x=df.drop(\"material\", axis=1)\n",
    "y=df[\"material\"]"
   ]
  },
  {
   "cell_type": "markdown",
   "id": "d64252a7",
   "metadata": {},
   "source": [
    "## model train on the basis of linear regression "
   ]
  },
  {
   "cell_type": "code",
   "execution_count": 60,
   "id": "4212b3fd",
   "metadata": {},
   "outputs": [
    {
     "data": {
      "text/plain": [
       "((35, 11), (15, 11), (35,), (15,))"
      ]
     },
     "execution_count": 60,
     "metadata": {},
     "output_type": "execute_result"
    }
   ],
   "source": [
    "x_train, x_test, y_train, y_test =train_test_split(x,y, random_state=42, test_size=0.3 )\n",
    "x_train.shape, x_test.shape, y_train.shape, y_test.shape"
   ]
  },
  {
   "cell_type": "code",
   "execution_count": 61,
   "id": "8c8bc88c",
   "metadata": {},
   "outputs": [
    {
     "name": "stderr",
     "output_type": "stream",
     "text": [
      "C:\\Users\\manis\\anaconda3\\lib\\site-packages\\sklearn\\linear_model\\_logistic.py:814: ConvergenceWarning: lbfgs failed to converge (status=1):\n",
      "STOP: TOTAL NO. of ITERATIONS REACHED LIMIT.\n",
      "\n",
      "Increase the number of iterations (max_iter) or scale the data as shown in:\n",
      "    https://scikit-learn.org/stable/modules/preprocessing.html\n",
      "Please also refer to the documentation for alternative solver options:\n",
      "    https://scikit-learn.org/stable/modules/linear_model.html#logistic-regression\n",
      "  n_iter_i = _check_optimize_result(\n"
     ]
    },
    {
     "data": {
      "text/plain": [
       "LogisticRegression()"
      ]
     },
     "execution_count": 61,
     "metadata": {},
     "output_type": "execute_result"
    }
   ],
   "source": [
    "logi_model=LogisticRegression()\n",
    "logi_model.fit(x_train, y_train)"
   ]
  },
  {
   "cell_type": "markdown",
   "id": "d2146303",
   "metadata": {},
   "source": [
    "# step-7 model_evalution "
   ]
  },
  {
   "cell_type": "code",
   "execution_count": 62,
   "id": "b2f14fcd",
   "metadata": {},
   "outputs": [
    {
     "name": "stdout",
     "output_type": "stream",
     "text": [
      "1.0\n",
      "1.0\n"
     ]
    }
   ],
   "source": [
    "train_score = logi_model.score(x_train,y_train)\n",
    "print(train_score)\n",
    "test_score = logi_model.score(x_test,y_test)\n",
    "print(test_score)"
   ]
  },
  {
   "cell_type": "code",
   "execution_count": 63,
   "id": "b644fe83",
   "metadata": {},
   "outputs": [],
   "source": [
    "with open(\"logi_model.pkl\",\"wb\") as file:\n",
    "    pickle.dump(logi_model,file)"
   ]
  },
  {
   "cell_type": "code",
   "execution_count": 65,
   "id": "96161d67",
   "metadata": {},
   "outputs": [],
   "source": [
    "project_data={\"columns\":x.columns.to_list(),\n",
    "              \"infill_pattern\":{'grid':0, 'honeycomb':1}}\n",
    "with open('project_data.json','w') as file:\n",
    "    json.dump(project_data,file)\n"
   ]
  },
  {
   "cell_type": "code",
   "execution_count": 66,
   "id": "67552b95",
   "metadata": {
    "scrolled": true
   },
   "outputs": [
    {
     "data": {
      "text/plain": [
       "Index(['layer_height', 'wall_thickness', 'infill_density', 'infill_pattern',\n",
       "       'nozzle_temperature', 'bed_temperature', 'print_speed', 'fan_speed',\n",
       "       'roughness', 'tension_strenght', 'elongation'],\n",
       "      dtype='object')"
      ]
     },
     "execution_count": 66,
     "metadata": {},
     "output_type": "execute_result"
    }
   ],
   "source": [
    "x.columns"
   ]
  },
  {
   "cell_type": "code",
   "execution_count": 67,
   "id": "a6d18e0d",
   "metadata": {},
   "outputs": [
    {
     "data": {
      "text/html": [
       "<div>\n",
       "<style scoped>\n",
       "    .dataframe tbody tr th:only-of-type {\n",
       "        vertical-align: middle;\n",
       "    }\n",
       "\n",
       "    .dataframe tbody tr th {\n",
       "        vertical-align: top;\n",
       "    }\n",
       "\n",
       "    .dataframe thead th {\n",
       "        text-align: right;\n",
       "    }\n",
       "</style>\n",
       "<table border=\"1\" class=\"dataframe\">\n",
       "  <thead>\n",
       "    <tr style=\"text-align: right;\">\n",
       "      <th></th>\n",
       "      <th>layer_height</th>\n",
       "      <th>wall_thickness</th>\n",
       "      <th>infill_density</th>\n",
       "      <th>infill_pattern</th>\n",
       "      <th>nozzle_temperature</th>\n",
       "      <th>bed_temperature</th>\n",
       "      <th>print_speed</th>\n",
       "      <th>material</th>\n",
       "      <th>fan_speed</th>\n",
       "      <th>roughness</th>\n",
       "      <th>tension_strenght</th>\n",
       "      <th>elongation</th>\n",
       "    </tr>\n",
       "  </thead>\n",
       "  <tbody>\n",
       "    <tr>\n",
       "      <th>0</th>\n",
       "      <td>0.02</td>\n",
       "      <td>8</td>\n",
       "      <td>90</td>\n",
       "      <td>0</td>\n",
       "      <td>220</td>\n",
       "      <td>60</td>\n",
       "      <td>40</td>\n",
       "      <td>0</td>\n",
       "      <td>0</td>\n",
       "      <td>25</td>\n",
       "      <td>18</td>\n",
       "      <td>1.2</td>\n",
       "    </tr>\n",
       "  </tbody>\n",
       "</table>\n",
       "</div>"
      ],
      "text/plain": [
       "   layer_height  wall_thickness  infill_density  infill_pattern  \\\n",
       "0          0.02               8              90               0   \n",
       "\n",
       "   nozzle_temperature  bed_temperature  print_speed  material  fan_speed  \\\n",
       "0                 220               60           40         0          0   \n",
       "\n",
       "   roughness  tension_strenght  elongation  \n",
       "0         25                18         1.2  "
      ]
     },
     "execution_count": 67,
     "metadata": {},
     "output_type": "execute_result"
    }
   ],
   "source": [
    "df.head(1)"
   ]
  },
  {
   "cell_type": "code",
   "execution_count": 68,
   "id": "617330b3",
   "metadata": {},
   "outputs": [
    {
     "name": "stdout",
     "output_type": "stream",
     "text": [
      "ABS\n"
     ]
    },
    {
     "name": "stderr",
     "output_type": "stream",
     "text": [
      "C:\\Users\\manis\\anaconda3\\lib\\site-packages\\sklearn\\base.py:450: UserWarning: X does not have valid feature names, but LogisticRegression was fitted with feature names\n",
      "  warnings.warn(\n"
     ]
    }
   ],
   "source": [
    "layer_height=0.02\n",
    "wall_thickness=8\n",
    "infill_density=90\n",
    "infill_pattern=\"grid\"\n",
    "nozzle_temperature=220\n",
    "bed_temperature=60\n",
    "print_speed=40\n",
    "fan_speed=0\n",
    "roughness=25\n",
    "tension_strenght=18\n",
    "elongation=1.2\n",
    "\n",
    "\n",
    "# preprocessing \n",
    "\n",
    "if infill_pattern == \"grid\":\n",
    "    infill_pattern = 0\n",
    "else: \n",
    "    infill_pattern = 1\n",
    "      \n",
    "user_data = np.zeros(len(x.columns))\n",
    "user_data[0] = layer_height\n",
    "user_data[1] = wall_thickness\n",
    "user_data[2] = infill_density\n",
    "user_data[3] = infill_pattern\n",
    "user_data[4] = nozzle_temperature\n",
    "user_data[5] = bed_temperature\n",
    "user_data[6] = print_speed\n",
    "user_data[7] = fan_speed\n",
    "user_data[8] = roughness\n",
    "user_data[9] = tension_strenght\n",
    "user_data[10] = elongation\n",
    "\n",
    "result = logi_model.predict([user_data])\n",
    "result\n",
    "\n",
    "if result == 0:\n",
    "    print(\"ABS\")\n",
    "else: \n",
    "    print(\"PLA\")"
   ]
  },
  {
   "cell_type": "code",
   "execution_count": null,
   "id": "b00dd31d",
   "metadata": {},
   "outputs": [],
   "source": []
  },
  {
   "cell_type": "code",
   "execution_count": null,
   "id": "a74b86bd",
   "metadata": {},
   "outputs": [],
   "source": []
  }
 ],
 "metadata": {
  "kernelspec": {
   "display_name": "Python 3 (ipykernel)",
   "language": "python",
   "name": "python3"
  },
  "language_info": {
   "codemirror_mode": {
    "name": "ipython",
    "version": 3
   },
   "file_extension": ".py",
   "mimetype": "text/x-python",
   "name": "python",
   "nbconvert_exporter": "python",
   "pygments_lexer": "ipython3",
   "version": "3.9.13"
  }
 },
 "nbformat": 4,
 "nbformat_minor": 5
}
